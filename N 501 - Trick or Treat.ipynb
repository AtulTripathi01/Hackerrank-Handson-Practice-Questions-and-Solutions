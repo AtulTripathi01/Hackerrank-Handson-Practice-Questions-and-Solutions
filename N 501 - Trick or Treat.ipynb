{
 "cells": [
  {
   "cell_type": "code",
   "execution_count": null,
   "metadata": {},
   "outputs": [],
   "source": [
    "############# Question Name :- N 501 - Trick or Treat! ################\n",
    "\n",
    "# Halloween is around and Ted Mosby ( who loves kids ) wants to give away candies. Ted has N bags of candies, each bag has Candies equal to A[i] stored in an array A[N]. There are M kids and each kid wants a specific amount of candy C[i] stored in an array C[M].\n",
    "\n",
    "# For every kid i, you are to print \"Happy Halloween!\" if C[i] is present in the array A[N]. If C[i] is not present in the array, print \"Tricky!\".\n",
    "\n",
    "# Hint1 : You can use binary search to find out whether an element is present in the array or not.\n",
    "\n",
    "# INPUT\n",
    "\n",
    "# First line contains the number N(1 <= N <= 10^5), size of array A[N]. Second line contains N space separated integers, denoting the elements of the array A. (1 <= A[i] <= 10^9) Third line contains the number M(1 <= M <= 10^5), size of array C[M]. Fourth line contains M space separated integers, denoting the elements of the array C. (1 <= C[i] <= 10^9)\n",
    "\n",
    "# OUTPUT\n",
    "\n",
    "# Print M lines of output. ith line being \"Happy Halloween!\" if C[i] is present in A[N] and \"Tricky!\" otherwise.\n",
    "\n",
    "# Sample Input 0\n",
    "\n",
    "# 5\n",
    "# 2 4 6 8 10\n",
    "# 5\n",
    "# 5 4 3 2 1\n",
    "# Sample Output 0\n",
    "\n",
    "# Tricky!\n",
    "# Happy Halloween!\n",
    "# Tricky!\n",
    "# Happy Halloween!\n",
    "# Tricky!\n",
    "\n"
   ]
  },
  {
   "cell_type": "code",
   "execution_count": null,
   "metadata": {},
   "outputs": [],
   "source": [
    "###### Solution ######\n",
    "\n",
    "def bin(x, l, r):\n",
    "    if(l <= r):\n",
    "        mid = (l+r)//2\n",
    "        # print(mid,'\\t',a[mid])\n",
    "        if(a[mid] == x):\n",
    "            return(True)\n",
    "        elif(a[mid] > x):\n",
    "            return(bin(x, l, mid-1))\n",
    "        else:\n",
    "            return(bin(x, mid+1, r))\n",
    "    else:\n",
    "        return(False)\n",
    "\n",
    "\n",
    "n = int(input())\n",
    "a = list(map(int, input().split()))\n",
    "m = int(input())\n",
    "c = list(map(int, input().split()))\n",
    "a.sort()\n",
    "for i in c:\n",
    "    if(bin(i, 0, len(a)-1)):\n",
    "        print('Happy Halloween!')\n",
    "    else:\n",
    "        print('Tricky!')\n"
   ]
  }
 ],
 "metadata": {
  "kernelspec": {
   "display_name": "Python 3",
   "language": "python",
   "name": "python3"
  },
  "language_info": {
   "codemirror_mode": {
    "name": "ipython",
    "version": 3
   },
   "file_extension": ".py",
   "mimetype": "text/x-python",
   "name": "python",
   "nbconvert_exporter": "python",
   "pygments_lexer": "ipython3",
   "version": "3.8.5"
  }
 },
 "nbformat": 4,
 "nbformat_minor": 4
}
